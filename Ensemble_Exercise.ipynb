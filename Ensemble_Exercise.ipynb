{
  "nbformat": 4,
  "nbformat_minor": 0,
  "metadata": {
    "colab": {
      "provenance": [],
      "include_colab_link": true
    },
    "kernelspec": {
      "name": "python3",
      "display_name": "Python 3"
    },
    "language_info": {
      "name": "python"
    }
  },
  "cells": [
    {
      "cell_type": "markdown",
      "metadata": {
        "id": "view-in-github",
        "colab_type": "text"
      },
      "source": [
        "<a href=\"https://colab.research.google.com/github/tbedeaux/ISEA-Cohort-2025/blob/main/Ensemble_Exercise.ipynb\" target=\"_parent\"><img src=\"https://colab.research.google.com/assets/colab-badge.svg\" alt=\"Open In Colab\"/></a>"
      ]
    },
    {
      "cell_type": "markdown",
      "source": [
        "# Your Task: Create an Ensemble\n",
        "\n"
      ],
      "metadata": {
        "id": "0MhB7souuE8l"
      }
    },
    {
      "cell_type": "markdown",
      "source": [
        "# Get the data"
      ],
      "metadata": {
        "id": "q5hWeXbc2eK7"
      }
    },
    {
      "cell_type": "code",
      "source": [
        "!pip install ucimlrepo\n",
        "from ucimlrepo import fetch_ucirepo"
      ],
      "metadata": {
        "id": "TL-Z4gGctdTv",
        "colab": {
          "base_uri": "https://localhost:8080/"
        },
        "outputId": "2e8d331f-cb5d-4905-8e7c-4e08354995e8"
      },
      "execution_count": 1,
      "outputs": [
        {
          "output_type": "stream",
          "name": "stdout",
          "text": [
            "Collecting ucimlrepo\n",
            "  Downloading ucimlrepo-0.0.7-py3-none-any.whl.metadata (5.5 kB)\n",
            "Requirement already satisfied: pandas>=1.0.0 in /usr/local/lib/python3.11/dist-packages (from ucimlrepo) (2.2.2)\n",
            "Requirement already satisfied: certifi>=2020.12.5 in /usr/local/lib/python3.11/dist-packages (from ucimlrepo) (2025.1.31)\n",
            "Requirement already satisfied: numpy>=1.23.2 in /usr/local/lib/python3.11/dist-packages (from pandas>=1.0.0->ucimlrepo) (1.26.4)\n",
            "Requirement already satisfied: python-dateutil>=2.8.2 in /usr/local/lib/python3.11/dist-packages (from pandas>=1.0.0->ucimlrepo) (2.8.2)\n",
            "Requirement already satisfied: pytz>=2020.1 in /usr/local/lib/python3.11/dist-packages (from pandas>=1.0.0->ucimlrepo) (2025.1)\n",
            "Requirement already satisfied: tzdata>=2022.7 in /usr/local/lib/python3.11/dist-packages (from pandas>=1.0.0->ucimlrepo) (2025.1)\n",
            "Requirement already satisfied: six>=1.5 in /usr/local/lib/python3.11/dist-packages (from python-dateutil>=2.8.2->pandas>=1.0.0->ucimlrepo) (1.17.0)\n",
            "Downloading ucimlrepo-0.0.7-py3-none-any.whl (8.0 kB)\n",
            "Installing collected packages: ucimlrepo\n",
            "Successfully installed ucimlrepo-0.0.7\n"
          ]
        }
      ]
    },
    {
      "cell_type": "code",
      "source": [
        "# Some useful imports - feel free to modify\n",
        "from sklearn.model_selection import train_test_split\n",
        "from sklearn.tree import DecisionTreeClassifier\n",
        "from sklearn.linear_model import LogisticRegression\n",
        "from sklearn.ensemble import RandomForestClassifier\n",
        "from sklearn.ensemble import VotingClassifier\n",
        "from sklearn.model_selection import train_test_split\n",
        "from sklearn.metrics import accuracy_score\n",
        "\n"
      ],
      "metadata": {
        "id": "PjcQo0CqxqVK"
      },
      "execution_count": 5,
      "outputs": []
    },
    {
      "cell_type": "code",
      "source": [
        "# fetch dataset\n",
        "predict_students_dropout_and_academic_success = fetch_ucirepo(id=697)\n",
        "\n",
        "# data (as pandas dataframes)\n",
        "X = predict_students_dropout_and_academic_success.data.features\n",
        "y = predict_students_dropout_and_academic_success.data.targets\n",
        "\n",
        "# Drop enrolled\n",
        "rows_to_remove = y[y[\"Target\"].isin([\"Enrolled\"])].index\n",
        "y = y.drop(rows_to_remove)\n",
        "X = X.drop(rows_to_remove)\n",
        "\n",
        "y = y[\"Target\"].map({\"Graduate\":1, \"Dropout\":0})\n",
        "\n",
        "X_train, X_test, y_train, y_test = train_test_split(\n",
        "    X, y, test_size=0.2, random_state=42\n",
        ")\n",
        "\n",
        "# Why Big X and little y?\n",
        "# X represents the matrix of x features, y represents the vector of y outcome."
      ],
      "metadata": {
        "id": "EYQXaH6itafW",
        "outputId": "c40bdc03-9dc5-4c43-964e-26bbbb353aaf",
        "colab": {
          "base_uri": "https://localhost:8080/"
        }
      },
      "execution_count": 36,
      "outputs": [
        {
          "output_type": "stream",
          "name": "stdout",
          "text": [
            "0\n"
          ]
        }
      ]
    },
    {
      "cell_type": "markdown",
      "source": [],
      "metadata": {
        "id": "vWAIuxVUx-on"
      }
    },
    {
      "cell_type": "markdown",
      "source": [
        "# Create a few classifiers classifiers\n",
        "- you don't need to fit or predict here, just initialize the model\n"
      ],
      "metadata": {
        "id": "x0Rxs5oOxEhp"
      }
    },
    {
      "cell_type": "code",
      "source": [
        "# modelA = Logistic Regression\n",
        "logit = LogisticRegression()\n",
        "\n",
        "# modelB =\n",
        "ranfor = RandomForestClassifier()\n",
        "# ..."
      ],
      "metadata": {
        "id": "bX2WIycIyiLc"
      },
      "execution_count": 6,
      "outputs": []
    },
    {
      "cell_type": "markdown",
      "source": [
        "# Create an Ensemble"
      ],
      "metadata": {
        "id": "hrCgs6aiypPB"
      }
    },
    {
      "cell_type": "code",
      "source": [
        "ensemble = VotingClassifier(\n",
        "    estimators = [\n",
        "        (\"lr\", logit),\n",
        "        (\"rf\", ranfor)\n",
        "    ],\n",
        "    voting = \"hard\"\n",
        ")\n",
        "\n",
        "# Train you ensemble (hint use `.fit()`)\n",
        "ensemble = ensemble.fit(X_train, y_train)\n",
        "\n",
        "# Create predictions (hint use `.predict()`)\n",
        "y_pred = ensemble.predict(X_test)\n",
        "\n"
      ],
      "metadata": {
        "id": "5RFrV7VOx33n",
        "outputId": "1f58ea26-8138-4ac8-cd57-ee41efbfa8b1",
        "colab": {
          "base_uri": "https://localhost:8080/"
        }
      },
      "execution_count": 38,
      "outputs": [
        {
          "output_type": "stream",
          "name": "stderr",
          "text": [
            "/usr/local/lib/python3.11/dist-packages/sklearn/linear_model/_logistic.py:465: ConvergenceWarning: lbfgs failed to converge (status=1):\n",
            "STOP: TOTAL NO. of ITERATIONS REACHED LIMIT.\n",
            "\n",
            "Increase the number of iterations (max_iter) or scale the data as shown in:\n",
            "    https://scikit-learn.org/stable/modules/preprocessing.html\n",
            "Please also refer to the documentation for alternative solver options:\n",
            "    https://scikit-learn.org/stable/modules/linear_model.html#logistic-regression\n",
            "  n_iter_i = _check_optimize_result(\n"
          ]
        }
      ]
    },
    {
      "cell_type": "code",
      "source": [
        "# Calculate accuracy metrics\n",
        "# how are FP/FN different between your models, what balance is the ensemble striking?"
      ],
      "metadata": {
        "id": "adMktkN5yn0z"
      },
      "execution_count": null,
      "outputs": []
    }
  ]
}