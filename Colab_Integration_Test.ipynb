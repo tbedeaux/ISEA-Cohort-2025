{
  "nbformat": 4,
  "nbformat_minor": 0,
  "metadata": {
    "colab": {
      "provenance": [],
      "authorship_tag": "ABX9TyM7d2zG0aZaJu0nCXm5K3jH",
      "include_colab_link": true
    },
    "kernelspec": {
      "name": "python3",
      "display_name": "Python 3"
    },
    "language_info": {
      "name": "python"
    }
  },
  "cells": [
    {
      "cell_type": "markdown",
      "metadata": {
        "id": "view-in-github",
        "colab_type": "text"
      },
      "source": [
        "<a href=\"https://colab.research.google.com/github/tbedeaux/ISEA-Cohort-2025/blob/main/Colab_Integration_Test.ipynb\" target=\"_parent\"><img src=\"https://colab.research.google.com/assets/colab-badge.svg\" alt=\"Open In Colab\"/></a>"
      ]
    },
    {
      "cell_type": "code",
      "execution_count": 21,
      "metadata": {
        "colab": {
          "base_uri": "https://localhost:8080/"
        },
        "id": "-6eM7hHnFuLT",
        "outputId": "246e489f-12d8-4095-d026-2ec1ca4f2e0a"
      },
      "outputs": [
        {
          "output_type": "stream",
          "name": "stdout",
          "text": [
            "fatal: destination path 'ISEA-Cohort-2025' already exists and is not an empty directory.\n",
            "error: remote origin already exists.\n",
            "fatal: A branch named 'ss-branch' already exists.\n",
            "On branch ss-branch\n",
            "nothing to commit, working tree clean\n",
            "remote: Support for password authentication was removed on August 13, 2021.\n",
            "remote: Please see https://docs.github.com/get-started/getting-started-with-git/about-remote-repositories#cloning-with-https-urls for information on currently recommended modes of authentication.\n",
            "fatal: Authentication failed for 'https://github.com/tbedeaux/ISEA-Cohort-2025/'\n"
          ]
        }
      ],
      "source": [
        "# This notebook tests whether Colab integration with GitHub is working.\n",
        "print(\"Hello world!\")"
      ]
    }
  ]
}